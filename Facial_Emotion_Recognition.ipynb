{
 "cells": [
  {
   "cell_type": "markdown",
   "id": "6ee88e11",
   "metadata": {},
   "source": [
    "# Facial Emotion Recognition"
   ]
  },
  {
   "cell_type": "code",
   "execution_count": null,
   "id": "81b0038a",
   "metadata": {},
   "outputs": [],
   "source": [
    "from facial_emotion_recognition import EmotionRecognition\n",
    "import cv2"
   ]
  },
  {
   "cell_type": "code",
   "execution_count": null,
   "id": "7b7e8ec4",
   "metadata": {},
   "outputs": [],
   "source": [
    "emRec = EmotionRecognition(device = 'cpu')\n",
    "cam = cv2.VideoCapture(0)\n",
    "while True:\n",
    "  success, frame = cam.read()\n",
    "  frame = emRec.recognise_emotion(frame , return_type ='BGR')\n",
    "  cv2.imshow('frame', frame)\n",
    "  key = cv2.waitKey(1)\n",
    "  if key == 27:\n",
    "    break\n",
    "cam.release()\n",
    "cv2.destroyAllWindows()"
   ]
  },
  {
   "cell_type": "code",
   "execution_count": null,
   "id": "b1dd705e",
   "metadata": {},
   "outputs": [],
   "source": []
  }
 ],
 "metadata": {
  "kernelspec": {
   "display_name": "Python 3",
   "language": "python",
   "name": "python3"
  },
  "language_info": {
   "codemirror_mode": {
    "name": "ipython",
    "version": 3
   },
   "file_extension": ".py",
   "mimetype": "text/x-python",
   "name": "python",
   "nbconvert_exporter": "python",
   "pygments_lexer": "ipython3",
   "version": "3.8.11"
  }
 },
 "nbformat": 4,
 "nbformat_minor": 5
}
