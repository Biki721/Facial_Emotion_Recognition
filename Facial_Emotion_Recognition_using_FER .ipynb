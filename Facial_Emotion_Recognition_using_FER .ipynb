{
 "cells": [
  {
   "cell_type": "markdown",
   "id": "02e1260e",
   "metadata": {},
   "source": [
    "# Facial Emotion Recognition"
   ]
  },
  {
   "cell_type": "code",
   "execution_count": null,
   "id": "6d188a99",
   "metadata": {},
   "outputs": [],
   "source": [
    "from fer import FER\n",
    "import matplotlib.pyplot as plt \n",
    "%matplotlib inline\n"
   ]
  },
  {
   "cell_type": "code",
   "execution_count": null,
   "id": "6909c071",
   "metadata": {},
   "outputs": [],
   "source": [
    "test_image_one = plt.imread(\"/content/Image-One.jpeg\")\n",
    "\n",
    "emo_detector = FER(mtcnn=True)\n",
    "\n",
    "# Capture all the emotions on the image\n",
    "captured_emotions = emo_detector.detect_emotions(test_image_one)\n",
    "\n",
    "# Print all captured emotions with the image\n",
    "print(captured_emotions)\n",
    "plt.imshow(test_image_one)\n",
    "\n",
    "# Use the top Emotion() function to call for the dominant emotion in the image\n",
    "dominant_emotion, emotion_score = emo_detector.top_emotion(test_image_one)\n",
    "\n",
    "print(dominant_emotion, emotion_score)"
   ]
  },
  {
   "cell_type": "code",
   "execution_count": null,
   "id": "3de174cb",
   "metadata": {},
   "outputs": [],
   "source": []
  }
 ],
 "metadata": {
  "kernelspec": {
   "display_name": "Python 3",
   "language": "python",
   "name": "python3"
  },
  "language_info": {
   "codemirror_mode": {
    "name": "ipython",
    "version": 3
   },
   "file_extension": ".py",
   "mimetype": "text/x-python",
   "name": "python",
   "nbconvert_exporter": "python",
   "pygments_lexer": "ipython3",
   "version": "3.8.11"
  }
 },
 "nbformat": 4,
 "nbformat_minor": 5
}
